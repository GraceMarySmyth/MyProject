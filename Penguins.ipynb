{
 "cells": [
  {
   "cell_type": "markdown",
   "metadata": {},
   "source": [
    "# Palmer Penguins\n",
    "\n",
    "This notebook contains my analysis of the famous Palmer Penguins dataset. \n",
    "\n",
    "![Penguins](https://allisonhorst.github.io/palmerpenguins/logo.png)\n",
    "\n",
    "The dataset is available [on github](https://allisonhorst.github.io/palmerpenguins/).\n",
    "\n",
    "\n"
   ]
  },
  {
   "cell_type": "markdown",
   "metadata": {},
   "source": [
    "## Background\n",
    "\n",
    "***\n",
    "\n",
    "Penguins are birds in the family Spheniscidae in the monotypic order Sphenisciformes. They inhabit high-productivity marine habitats, almost exclusively in the Southern Hemisphere; the only species to occur north of the Equator is the Galapagos penguin. The only group of birds other than the ratites to be entirely flightless, penguins are extremely adapted to their aquatic lifestyle, with a streamlined shape that minimizes drag, countershaded dark-and-white plumage, dense bones, powerful flippers, and insulating feathers that allow them to withstand very low temperatures on land and in water.\n",
    "\n",
    "There are currently 18 extant species of penguins recognised by the International Ornithologists' Union, distributed among six genera. (https://en.wikipedia.org/wiki/Penguin)\n",
    "\n",
    "For the purposes of this notebook I will concentrate on the penguins in the Famous Palmer Penguins Data set.The data was collected as part of research to study Antarctic penguins’ foraging behavior and its relationship with environmental variability. The canonical paper from Gorman et al. presents the research in detail.this data set represents the Antartic penguins."
   ]
  },
  {
   "cell_type": "markdown",
   "metadata": {},
   "source": [
    "## Imports \n",
    "\n",
    "***\n",
    "\n",
    "We use pandas for the DataFrame data structure.\n",
    "\n",
    "It allows us to investigate CSCV files, amongst other features."
   ]
  },
  {
   "cell_type": "code",
   "execution_count": 48,
   "metadata": {},
   "outputs": [],
   "source": [
    "# Data frames.\n",
    "import pandas as pd"
   ]
  },
  {
   "cell_type": "markdown",
   "metadata": {},
   "source": [
    "Matplotlib is a comprehensive library for creating static, animated, and interactive visualizations in Python. Matplotlib makes easy things easy and hard things possible. (https://matplotlib.org/)This will be used later in the notebook to find a correlation between two variables"
   ]
  },
  {
   "cell_type": "code",
   "execution_count": 49,
   "metadata": {},
   "outputs": [],
   "source": [
    "# Import the plotting library.\n",
    "import matplotlib.pyplot as plt"
   ]
  },
  {
   "cell_type": "markdown",
   "metadata": {},
   "source": [
    "NumPy can be used to perform a wide variety of mathematical operations on arrays.\n",
    "It adds powerful data structures to Python that guarantee efficient calculations with arraysand matrices and it supplies an enormous library of high-level mathematical functions that operate on these arrays and matrices. (https://numpy.org/doc/stable/user/absolute_beginners.html)"
   ]
  },
  {
   "cell_type": "code",
   "execution_count": 50,
   "metadata": {},
   "outputs": [],
   "source": [
    "# Import Numpy\n",
    "import numpy as np"
   ]
  },
  {
   "cell_type": "markdown",
   "metadata": {},
   "source": [
    "Seaborn is a Python data visualization library based on matplotlib. \n",
    "It provides a high-level interface for drawing attractive and informative statistical graphics."
   ]
  },
  {
   "cell_type": "code",
   "execution_count": 51,
   "metadata": {},
   "outputs": [],
   "source": [
    "# import seaborn\n",
    "import seaborn as sb"
   ]
  },
  {
   "cell_type": "markdown",
   "metadata": {},
   "source": [
    "## Load Data\n",
    "\n",
    "***\n",
    "\n",
    "Load the Palmer Penguins dataset from a URL.\n"
   ]
  },
  {
   "cell_type": "code",
   "execution_count": 52,
   "metadata": {},
   "outputs": [],
   "source": [
    "# load the penguins data set.\n",
    "df = pd.read_csv(\"https://raw.githubusercontent.com/mwaskom/seaborn-data/master/penguins.csv\")\n"
   ]
  },
  {
   "cell_type": "markdown",
   "metadata": {},
   "source": [
    "The data is now loaded and we can inspect it. "
   ]
  },
  {
   "cell_type": "code",
   "execution_count": 53,
   "metadata": {},
   "outputs": [
    {
     "data": {
      "text/html": [
       "<div>\n",
       "<style scoped>\n",
       "    .dataframe tbody tr th:only-of-type {\n",
       "        vertical-align: middle;\n",
       "    }\n",
       "\n",
       "    .dataframe tbody tr th {\n",
       "        vertical-align: top;\n",
       "    }\n",
       "\n",
       "    .dataframe thead th {\n",
       "        text-align: right;\n",
       "    }\n",
       "</style>\n",
       "<table border=\"1\" class=\"dataframe\">\n",
       "  <thead>\n",
       "    <tr style=\"text-align: right;\">\n",
       "      <th></th>\n",
       "      <th>species</th>\n",
       "      <th>island</th>\n",
       "      <th>bill_length_mm</th>\n",
       "      <th>bill_depth_mm</th>\n",
       "      <th>flipper_length_mm</th>\n",
       "      <th>body_mass_g</th>\n",
       "      <th>sex</th>\n",
       "    </tr>\n",
       "  </thead>\n",
       "  <tbody>\n",
       "    <tr>\n",
       "      <th>0</th>\n",
       "      <td>Adelie</td>\n",
       "      <td>Torgersen</td>\n",
       "      <td>39.1</td>\n",
       "      <td>18.7</td>\n",
       "      <td>181.0</td>\n",
       "      <td>3750.0</td>\n",
       "      <td>MALE</td>\n",
       "    </tr>\n",
       "    <tr>\n",
       "      <th>1</th>\n",
       "      <td>Adelie</td>\n",
       "      <td>Torgersen</td>\n",
       "      <td>39.5</td>\n",
       "      <td>17.4</td>\n",
       "      <td>186.0</td>\n",
       "      <td>3800.0</td>\n",
       "      <td>FEMALE</td>\n",
       "    </tr>\n",
       "    <tr>\n",
       "      <th>2</th>\n",
       "      <td>Adelie</td>\n",
       "      <td>Torgersen</td>\n",
       "      <td>40.3</td>\n",
       "      <td>18.0</td>\n",
       "      <td>195.0</td>\n",
       "      <td>3250.0</td>\n",
       "      <td>FEMALE</td>\n",
       "    </tr>\n",
       "    <tr>\n",
       "      <th>3</th>\n",
       "      <td>Adelie</td>\n",
       "      <td>Torgersen</td>\n",
       "      <td>NaN</td>\n",
       "      <td>NaN</td>\n",
       "      <td>NaN</td>\n",
       "      <td>NaN</td>\n",
       "      <td>NaN</td>\n",
       "    </tr>\n",
       "    <tr>\n",
       "      <th>4</th>\n",
       "      <td>Adelie</td>\n",
       "      <td>Torgersen</td>\n",
       "      <td>36.7</td>\n",
       "      <td>19.3</td>\n",
       "      <td>193.0</td>\n",
       "      <td>3450.0</td>\n",
       "      <td>FEMALE</td>\n",
       "    </tr>\n",
       "    <tr>\n",
       "      <th>...</th>\n",
       "      <td>...</td>\n",
       "      <td>...</td>\n",
       "      <td>...</td>\n",
       "      <td>...</td>\n",
       "      <td>...</td>\n",
       "      <td>...</td>\n",
       "      <td>...</td>\n",
       "    </tr>\n",
       "    <tr>\n",
       "      <th>339</th>\n",
       "      <td>Gentoo</td>\n",
       "      <td>Biscoe</td>\n",
       "      <td>NaN</td>\n",
       "      <td>NaN</td>\n",
       "      <td>NaN</td>\n",
       "      <td>NaN</td>\n",
       "      <td>NaN</td>\n",
       "    </tr>\n",
       "    <tr>\n",
       "      <th>340</th>\n",
       "      <td>Gentoo</td>\n",
       "      <td>Biscoe</td>\n",
       "      <td>46.8</td>\n",
       "      <td>14.3</td>\n",
       "      <td>215.0</td>\n",
       "      <td>4850.0</td>\n",
       "      <td>FEMALE</td>\n",
       "    </tr>\n",
       "    <tr>\n",
       "      <th>341</th>\n",
       "      <td>Gentoo</td>\n",
       "      <td>Biscoe</td>\n",
       "      <td>50.4</td>\n",
       "      <td>15.7</td>\n",
       "      <td>222.0</td>\n",
       "      <td>5750.0</td>\n",
       "      <td>MALE</td>\n",
       "    </tr>\n",
       "    <tr>\n",
       "      <th>342</th>\n",
       "      <td>Gentoo</td>\n",
       "      <td>Biscoe</td>\n",
       "      <td>45.2</td>\n",
       "      <td>14.8</td>\n",
       "      <td>212.0</td>\n",
       "      <td>5200.0</td>\n",
       "      <td>FEMALE</td>\n",
       "    </tr>\n",
       "    <tr>\n",
       "      <th>343</th>\n",
       "      <td>Gentoo</td>\n",
       "      <td>Biscoe</td>\n",
       "      <td>49.9</td>\n",
       "      <td>16.1</td>\n",
       "      <td>213.0</td>\n",
       "      <td>5400.0</td>\n",
       "      <td>MALE</td>\n",
       "    </tr>\n",
       "  </tbody>\n",
       "</table>\n",
       "<p>344 rows × 7 columns</p>\n",
       "</div>"
      ],
      "text/plain": [
       "    species     island  bill_length_mm  bill_depth_mm  flipper_length_mm  \\\n",
       "0    Adelie  Torgersen            39.1           18.7              181.0   \n",
       "1    Adelie  Torgersen            39.5           17.4              186.0   \n",
       "2    Adelie  Torgersen            40.3           18.0              195.0   \n",
       "3    Adelie  Torgersen             NaN            NaN                NaN   \n",
       "4    Adelie  Torgersen            36.7           19.3              193.0   \n",
       "..      ...        ...             ...            ...                ...   \n",
       "339  Gentoo     Biscoe             NaN            NaN                NaN   \n",
       "340  Gentoo     Biscoe            46.8           14.3              215.0   \n",
       "341  Gentoo     Biscoe            50.4           15.7              222.0   \n",
       "342  Gentoo     Biscoe            45.2           14.8              212.0   \n",
       "343  Gentoo     Biscoe            49.9           16.1              213.0   \n",
       "\n",
       "     body_mass_g     sex  \n",
       "0         3750.0    MALE  \n",
       "1         3800.0  FEMALE  \n",
       "2         3250.0  FEMALE  \n",
       "3            NaN     NaN  \n",
       "4         3450.0  FEMALE  \n",
       "..           ...     ...  \n",
       "339          NaN     NaN  \n",
       "340       4850.0  FEMALE  \n",
       "341       5750.0    MALE  \n",
       "342       5200.0  FEMALE  \n",
       "343       5400.0    MALE  \n",
       "\n",
       "[344 rows x 7 columns]"
      ]
     },
     "execution_count": 53,
     "metadata": {},
     "output_type": "execute_result"
    }
   ],
   "source": [
    "# Let's have a look.\n",
    "df"
   ]
  },
  {
   "cell_type": "markdown",
   "metadata": {},
   "source": [
    "## Inspect data.\n",
    "\n",
    "***"
   ]
  },
  {
   "cell_type": "code",
   "execution_count": 54,
   "metadata": {},
   "outputs": [
    {
     "data": {
      "text/plain": [
       "species                 Adelie\n",
       "island               Torgersen\n",
       "bill_length_mm            39.1\n",
       "bill_depth_mm             18.7\n",
       "flipper_length_mm        181.0\n",
       "body_mass_g             3750.0\n",
       "sex                       MALE\n",
       "Name: 0, dtype: object"
      ]
     },
     "execution_count": 54,
     "metadata": {},
     "output_type": "execute_result"
    }
   ],
   "source": [
    "# Look at the first row. \n",
    "df.iloc[0]"
   ]
  },
  {
   "cell_type": "code",
   "execution_count": 55,
   "metadata": {},
   "outputs": [
    {
     "data": {
      "text/plain": [
       "0        MALE\n",
       "1      FEMALE\n",
       "2      FEMALE\n",
       "3         NaN\n",
       "4      FEMALE\n",
       "        ...  \n",
       "339       NaN\n",
       "340    FEMALE\n",
       "341      MALE\n",
       "342    FEMALE\n",
       "343      MALE\n",
       "Name: sex, Length: 344, dtype: object"
      ]
     },
     "execution_count": 55,
     "metadata": {},
     "output_type": "execute_result"
    }
   ],
   "source": [
    "# sex of Penguins\n",
    "df['sex']"
   ]
  },
  {
   "cell_type": "code",
   "execution_count": 56,
   "metadata": {},
   "outputs": [
    {
     "data": {
      "text/plain": [
       "sex\n",
       "MALE      168\n",
       "FEMALE    165\n",
       "Name: count, dtype: int64"
      ]
     },
     "execution_count": 56,
     "metadata": {},
     "output_type": "execute_result"
    }
   ],
   "source": [
    "# Count the number of Penguins of each sex.\n",
    "df['sex'].value_counts()"
   ]
  },
  {
   "cell_type": "code",
   "execution_count": 60,
   "metadata": {},
   "outputs": [
    {
     "data": {
      "text/plain": [
       "species\n",
       "Adelie       152\n",
       "Gentoo       124\n",
       "Chinstrap     68\n",
       "Name: count, dtype: int64"
      ]
     },
     "execution_count": 60,
     "metadata": {},
     "output_type": "execute_result"
    }
   ],
   "source": [
    "# count the number of penguins in each species.\n",
    "df['species'].value_counts()"
   ]
  },
  {
   "cell_type": "code",
   "execution_count": 61,
   "metadata": {},
   "outputs": [
    {
     "data": {
      "text/html": [
       "<div>\n",
       "<style scoped>\n",
       "    .dataframe tbody tr th:only-of-type {\n",
       "        vertical-align: middle;\n",
       "    }\n",
       "\n",
       "    .dataframe tbody tr th {\n",
       "        vertical-align: top;\n",
       "    }\n",
       "\n",
       "    .dataframe thead th {\n",
       "        text-align: right;\n",
       "    }\n",
       "</style>\n",
       "<table border=\"1\" class=\"dataframe\">\n",
       "  <thead>\n",
       "    <tr style=\"text-align: right;\">\n",
       "      <th></th>\n",
       "      <th>bill_length_mm</th>\n",
       "      <th>bill_depth_mm</th>\n",
       "      <th>flipper_length_mm</th>\n",
       "      <th>body_mass_g</th>\n",
       "    </tr>\n",
       "  </thead>\n",
       "  <tbody>\n",
       "    <tr>\n",
       "      <th>count</th>\n",
       "      <td>342.000000</td>\n",
       "      <td>342.000000</td>\n",
       "      <td>342.000000</td>\n",
       "      <td>342.000000</td>\n",
       "    </tr>\n",
       "    <tr>\n",
       "      <th>mean</th>\n",
       "      <td>43.921930</td>\n",
       "      <td>17.151170</td>\n",
       "      <td>200.915205</td>\n",
       "      <td>4201.754386</td>\n",
       "    </tr>\n",
       "    <tr>\n",
       "      <th>std</th>\n",
       "      <td>5.459584</td>\n",
       "      <td>1.974793</td>\n",
       "      <td>14.061714</td>\n",
       "      <td>801.954536</td>\n",
       "    </tr>\n",
       "    <tr>\n",
       "      <th>min</th>\n",
       "      <td>32.100000</td>\n",
       "      <td>13.100000</td>\n",
       "      <td>172.000000</td>\n",
       "      <td>2700.000000</td>\n",
       "    </tr>\n",
       "    <tr>\n",
       "      <th>25%</th>\n",
       "      <td>39.225000</td>\n",
       "      <td>15.600000</td>\n",
       "      <td>190.000000</td>\n",
       "      <td>3550.000000</td>\n",
       "    </tr>\n",
       "    <tr>\n",
       "      <th>50%</th>\n",
       "      <td>44.450000</td>\n",
       "      <td>17.300000</td>\n",
       "      <td>197.000000</td>\n",
       "      <td>4050.000000</td>\n",
       "    </tr>\n",
       "    <tr>\n",
       "      <th>75%</th>\n",
       "      <td>48.500000</td>\n",
       "      <td>18.700000</td>\n",
       "      <td>213.000000</td>\n",
       "      <td>4750.000000</td>\n",
       "    </tr>\n",
       "    <tr>\n",
       "      <th>max</th>\n",
       "      <td>59.600000</td>\n",
       "      <td>21.500000</td>\n",
       "      <td>231.000000</td>\n",
       "      <td>6300.000000</td>\n",
       "    </tr>\n",
       "  </tbody>\n",
       "</table>\n",
       "</div>"
      ],
      "text/plain": [
       "       bill_length_mm  bill_depth_mm  flipper_length_mm  body_mass_g\n",
       "count      342.000000     342.000000         342.000000   342.000000\n",
       "mean        43.921930      17.151170         200.915205  4201.754386\n",
       "std          5.459584       1.974793          14.061714   801.954536\n",
       "min         32.100000      13.100000         172.000000  2700.000000\n",
       "25%         39.225000      15.600000         190.000000  3550.000000\n",
       "50%         44.450000      17.300000         197.000000  4050.000000\n",
       "75%         48.500000      18.700000         213.000000  4750.000000\n",
       "max         59.600000      21.500000         231.000000  6300.000000"
      ]
     },
     "execution_count": 61,
     "metadata": {},
     "output_type": "execute_result"
    }
   ],
   "source": [
    "# Describe the data set.\n",
    "df.describe()"
   ]
  },
  {
   "cell_type": "markdown",
   "metadata": {},
   "source": [
    "## Tables\n",
    "\n",
    "***\n",
    "\n",
    "|Species    |Bill Lenght (mm)  |Body Mass (gms)  |\n",
    "|---------- |-----------------:| ---------------:|\n",
    "|Adelie     |              38.8|             3701|\n",
    "|Chinstrap  |              48.8|             3733|\n",
    "|Gentoo     |              47.5|             5076|"
   ]
  },
  {
   "cell_type": "markdown",
   "metadata": {},
   "source": [
    "## Types of variables that could be used to model the variables in the data set. \n",
    "\n",
    "***\n",
    "\n",
    "The Palmer Penguin data set is a popular dataset in the field of data science and can be used for various types of analysis. This the basis for this jupiter notebook. A variable is any kind of attribute or characteristic that can be measured, manipulated and controled in statistics and research. All studies analyze a variable, which can describe a person (in this case penguins), place, thing or idea. A variable's value can change between groups or over time. There are two major types of variables- Quantitave and qualitative. Quantitative variables are data sets that involve numbers or amounts whereas qualitative variables are non-numerical values or groupings. In the case of the Palmer penguin set and example of a qualitiative variable would be mass. An example of a qualitative variable would be species. \n",
    "\n",
    "Some common types of variables that could be used to analyze the Palmer Penguin data set include:\n",
    "\n",
    "1. **Categorical Variables**: \n",
    "In statistics, a categorical variable (also called qualitative variable) is a variable that can take on one of a limited, and usually fixed, number of possible values, assigning each individual or other unit of observation to a particular group or nominal category on the basis of some qualitative property.[1]\n",
    "\n",
    "   - Species: There are three different species of penguins in the dataset - Adelie, Chinstrap, and Gentoo.\n",
    "   - Island: The penguins were observed on three different islands - Biscoe, Dream, and Torgersen.\n",
    "\n",
    "   A suggetion for analysis within this category could be if penguins of the same species were living in different environmnets ie islands had differences in their body mass or flipper length. Also the characteristics of each species of penguin can be compared against each other.\n",
    "\n",
    "2. **Numerical Variables**:\n",
    "Numeric variables have values that describe a measurable quantity as a number, like 'how many' or 'how much'. Therefore numeric variables are quantitative variables. Numeric variables may be further described as either continuous or discrete: A continuous variable is a numeric variable.[2]\n",
    "\n",
    "   - Numerical Measurements: Various measurements such as bill length, bill depth, flipper length, and body mass can be used as numerical variables for analysis.\n",
    "   - Date: The date on which the observations were made can also be a numerical variable for time series analysis.\n",
    "   \n",
    "   A suggestion for analysis could be comparing body mass at different times of the year ie date to see if there would be a seasonal aspect to body mass and investigate any trends related to seasonal patterns. By analysisng the body composition ie mass, flipper length ect the patterns or relationships (if any) could be identified\n",
    "\n",
    "3. **Ordinal Variables**:\n",
    "Ordinal data is a categorical, statistical data type where the variables have natural, ordered categories and the distances between the categories are not known.[3]\n",
    "\n",
    "   - Clutch Completion: This variable indicates whether the penguin completed its clutch or not, and can be considered an ordinal variable.\n",
    "   - Stage: The developmental stage of the penguin (Adult, Chick, or Juvenile) can also be treated as an ordinal variable.\n",
    "   \n",
    "   By analysing the completion of the clutch, success in reproduction can be assessed. If compared over years an upward, downward or stagnent trend could be identified. This would be useful to identify potential issues with survival of the species. \n",
    "\n",
    "\n",
    "4. **Boolean Variables**:\n",
    "Boolean data type is a form of data with only two possible values (usually \"true\" and \"false\") or in this case Male or Female. [4]\n",
    "\n",
    "   - Sex: The sex of the penguin (Male or Female) can be represented as a boolean variable.\n",
    "   \n",
    "   Many different variables can be assessed using sex. Males can be analysed in comparison to females in relation to mass and body composition.  \n",
    "\n",
    "\n",
    "5. **Derived Variables**:\n",
    "A derived variable is one that is derived from two (or more) primary variables. Percentages, ratios, indices and rates are all derived variables. Typically they will be decimal, integer, or alphanumeric types[5]\n",
    "\n",
    "   - Body Mass Index (BMI): Calculated based on the body mass and flipper length, this can be a derived variable for further analysis.\n",
    "   - Body Proportions: Ratios of different body measurements can be derived and used for analysis.\n",
    "\n",
    "   By assessing the BMI or mass of the penguin additional insights into the overall health or body condition can be provided.\n",
    "\n",
    "6. **Geospatial Variables**:\n",
    "Geospatial data is information that describes objects, events or other features with a location on or near the surface of the earth. Geospatial data typically combines location information (usually coordinates on the earth) and attribute information (the characteristics of the object, event or phenomena concerned) with temporal information (the time or life span at which the location and attributes exist).[6]\n",
    "\n",
    "   - Latitude and Longitude: The geographic coordinates of the islands where the penguins were observed can be used as geospatial variables to study any spatial patterns or distribution of penguin populations.\n",
    "\n",
    "7. **Temporal Variables**:\n",
    "\n",
    "   - Time of Day: The time of day when observations were made can be used as a temporal variable to investigate any diurnal patterns in penguin behavior or activity levels.\n",
    "\n",
    "These are just a few examples of the types of variables that could be used to analyze the Palmer Penguin data set. The choice of variables would depend on the specific research questions or analysis objectives that researchers have in mind. The question/answers being sought dictate the type of variables used and how they are represented"
   ]
  },
  {
   "cell_type": "markdown",
   "metadata": {},
   "source": [
    "## References:\n",
    "\n",
    "***\n",
    "1. (Wikipedia).  Yates, Daniel S.; Moore, David S.; Starnes, Daren S. (2003). The Practice of Statistics (2nd ed.). New York: Freeman. ISBN 978-0-7167-4773-4. Archived from the original on 2005-02-09.\n",
    "2. https://www.abs.gov.au/statistics/understanding-statistics/statistical-terms-and-concepts/variables#:~:text=Numeric%20variables%20have%20values%20that,variable%20is%20a%20numeric%20variable.\n",
    "3. (Wikipedia).  Agresti, Alan (2013). Categorical Data Analysis (3 ed.). Hoboken, New Jersey: John Wiley & Sons. ISBN 978-0-470-46363-5.\n",
    "4. https://en.wikipedia.org/wiki/Boolean\n",
    "5. https://sites.google.com/view/ochrewiki/categories/taxonomy/derived-variables\n",
    "6. https://www.ibm.com/topics/geospatial-data\n"
   ]
  },
  {
   "cell_type": "markdown",
   "metadata": {},
   "source": [
    "## Bar chart of an appropriate variable \n",
    "\n",
    "***\n",
    "The variables that are being assessed in this bar chart are the number of each species of penguin ie the numbers of  Adélie (152 penguins), Gentoo (124 penguins), and Chinstrap (68 penguins) within the data set. \n"
   ]
  },
  {
   "cell_type": "code",
   "execution_count": 62,
   "metadata": {},
   "outputs": [
    {
     "data": {
      "text/plain": [
       "Text(0, 0.5, 'Number of Penguins')"
      ]
     },
     "execution_count": 62,
     "metadata": {},
     "output_type": "execute_result"
    },
    {
     "data": {
      "image/png": "[encoded data removed]",
      "text/plain": [
       "<Figure size 640x480 with 1 Axes>"
      ]
     },
     "metadata": {},
     "output_type": "display_data"
    }
   ],
   "source": [
    "# plot the bar chart.\n",
    "\n",
    "plotdata = pd.DataFrame(\n",
    "    {\"number of penguins\": [152, 124, 68]}, \n",
    "    index=[\"Adélie\", \"Gentoo\", \"Chinstrap\"])\n",
    "# Plot a bar chart\n",
    "plotdata.plot(kind=\"bar\")\n",
    "\n",
    "plt.xticks(rotation=45, horizontalalignment=\"center\")\n",
    "plt.title(\"Palmer Penguin Dat set breakdown by species\")\n",
    "plt.xlabel(\"Species\")\n",
    "plt.ylabel(\"Number of Penguins\")\n"
   ]
  },
  {
   "cell_type": "markdown",
   "metadata": {},
   "source": [
    "equally the same information could also be represented as a pie chart"
   ]
  },
  {
   "cell_type": "code",
   "execution_count": 65,
   "metadata": {},
   "outputs": [
    {
     "data": {
      "text/plain": [
       "([<matplotlib.patches.Wedge at 0x1d9a935d6d0>,\n",
       "  <matplotlib.patches.Wedge at 0x1d9a9281a50>,\n",
       "  <matplotlib.patches.Wedge at 0x1d9a92d3950>],\n",
       " [Text(0.21796421346719308, 1.1800388136191233, 'Adelie'),\n",
       "  Text(-0.7918938277833127, -0.7634816078457249, 'Gentoo'),\n",
       "  Text(0.894618705053837, -0.6400448207491378, 'Chinstrap')],\n",
       " [Text(0.12714579118919594, 0.6883559746111552, '44.2%'),\n",
       "  Text(-0.4319420878818069, -0.4164445133703954, '36.0%'),\n",
       "  Text(0.4879738391202747, -0.34911535677225697, '19.8%')])"
      ]
     },
     "execution_count": 65,
     "metadata": {},
     "output_type": "execute_result"
    },
    {
     "data": {
      "image/png": "[encoded data removed]",
      "text/plain": [
       "<Figure size 1200x500 with 1 Axes>"
      ]
     },
     "metadata": {},
     "output_type": "display_data"
    }
   ],
   "source": [
    "# Set a size of figure\n",
    "plt.figure(figsize=(12,5))\n",
    "\n",
    "# Create a figure with multiple subplots.\n",
    "plt.subplot(1,2,1)\n",
    "\n",
    "# Set a title of plot\n",
    "plt.title(\"Percentage of Penguins Species\",fontweight=\"black\",size=14)\n",
    "\n",
    "species = df[\"species\"].value_counts()\n",
    "\n",
    "# Pie chart\n",
    "plt.pie(species.values, labels=species.index, autopct=\"%.1f%%\", textprops={\"fontweight\":\"black\",\"size\":14}\n",
    "     ,explode=(0.1, 0, 0), colors=['green', 'blue', 'red'])"
   ]
  },
  {
   "cell_type": "markdown",
   "metadata": {},
   "source": [
    "## Histogram of an appropriate variable.\n",
    "\n",
    "***"
   ]
  },
  {
   "cell_type": "code",
   "execution_count": null,
   "metadata": {},
   "outputs": [],
   "source": [
    "# plot the histogram\n",
    "\n"
   ]
  },
  {
   "cell_type": "markdown",
   "metadata": {},
   "source": [
    "## The differences between a Histogram and a Bar graph. An important distinction.\n",
    "\n",
    "***\n",
    "Although histograms and bar charts use a column-based display, they serve different purposes.\n",
    "\n",
    "A bar graph is used to compare discrete or categorical variables in a graphical format whereas a histogram depicts the frequency distribution of variables in a dataset ie Histograms visualize quantitative data or numerical data, whereas bar charts display categorical variables. This is why I chose to look at the differing number of species within in the data set as a bar chart and I choose to look at  "
   ]
  },
  {
   "cell_type": "markdown",
   "metadata": {},
   "source": [
    "## A correlation of two variables\n",
    "\n",
    "***\n",
    "\n"
   ]
  },
  {
   "cell_type": "markdown",
   "metadata": {},
   "source": [
    "***\n",
    "\n",
    "### End"
   ]
  }
 ],
 "metadata": {
  "kernelspec": {
   "display_name": "base",
   "language": "python",
   "name": "python3"
  },
  "language_info": {
   "codemirror_mode": {
    "name": "ipython",
    "version": 3
   },
   "file_extension": ".py",
   "mimetype": "text/x-python",
   "name": "python",
   "nbconvert_exporter": "python",
   "pygments_lexer": "ipython3",
   "version": "3.11.5"
  }
 },
 "nbformat": 4,
 "nbformat_minor": 2
}
